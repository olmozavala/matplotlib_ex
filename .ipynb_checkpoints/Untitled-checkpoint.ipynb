{
 "cells": [
  {
   "cell_type": "code",
   "execution_count": 4,
   "id": "8df386dd-fe62-4044-8198-9be168f1d8df",
   "metadata": {},
   "outputs": [],
   "source": [
    "import datashader as ds\n",
    "import pandas as pd\n",
    "import colorcet as cc\n",
    "import matplotlib.pyplot as plt\n",
    "from pyproj import CRS\n",
    "from pyproj import Transformer\n",
    "from functools import partial\n",
    "# Shader pipepline https://datashader.org/getting_started/Pipeline.html"
   ]
  },
  {
   "cell_type": "code",
   "execution_count": 5,
   "id": "19d683fe-640c-4745-8fae-74d1ec8e74a0",
   "metadata": {},
   "outputs": [],
   "source": [
    "## Read data\n",
    "df = pd.read_csv('./test_data/nyc_taxi.csv', usecols=['dropoff_x', 'dropoff_y'])\n",
    "df.head()\n",
    "\n",
    "# Transform to lat lon\n",
    "transformer = Transformer.from_crs(3857, 4326)\n",
    "lat, lon = transformer.transform(df['dropoff_x'],df['dropoff_y'])\n",
    "# Remake df and store data\n",
    "df = pd.DataFrame({'lat':lat, 'lon':lon})\n",
    "agg = ds.Canvas().points(df, 'lon', 'lat')  # sets the locations"
   ]
  },
  {
   "cell_type": "code",
   "execution_count": 6,
   "id": "77847a8f-6d2f-46e3-b697-53fb0156b102",
   "metadata": {},
   "outputs": [
    {
     "name": "stdout",
     "output_type": "stream",
     "text": [
      "Done!\n"
     ]
    }
   ],
   "source": [
    "## ------------ Simplest plot --------------\n",
    "myimg = ds.tf.shade(agg, cmap=cc.fire)\n",
    "print(\"Done!\")"
   ]
  }
 ],
 "metadata": {
  "kernelspec": {
   "display_name": "Python 3 (ipykernel)",
   "language": "python",
   "name": "python3"
  },
  "language_info": {
   "codemirror_mode": {
    "name": "ipython",
    "version": 3
   },
   "file_extension": ".py",
   "mimetype": "text/x-python",
   "name": "python",
   "nbconvert_exporter": "python",
   "pygments_lexer": "ipython3",
   "version": "3.9.13"
  }
 },
 "nbformat": 4,
 "nbformat_minor": 5
}
