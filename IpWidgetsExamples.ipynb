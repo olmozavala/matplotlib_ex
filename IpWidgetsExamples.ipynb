{
 "cells": [
  {
   "cell_type": "code",
   "execution_count": 11,
   "metadata": {
    "tags": []
   },
   "outputs": [],
   "source": [
    "%matplotlib widget\n",
    "import ipywidgets as widgets\n",
    "import matplotlib.pyplot as plt\n",
    "from ipywidgets import interact, interactive, fixed, interact_manual\n",
    "import numpy as np\n",
    "plt.rcParams['figure.figsize'] = [5,3]"
   ]
  },
  {
   "cell_type": "markdown",
   "metadata": {},
   "source": [
    "## Numeric sliders\n",
    "[IntSlider](https://ipywidgets.readthedocs.io/en/stable/examples/Widget%20List.html#IntSlider)\n",
    "[FloatSlider](https://ipywidgets.readthedocs.io/en/stable/examples/Widget%20List.html#FloatSlider), [FloatLogSlider](https://ipywidgets.readthedocs.io/en/stable/examples/Widget%20List.html#FloatLogSlider) \n"
   ]
  },
  {
   "cell_type": "code",
   "execution_count": 12,
   "metadata": {},
   "outputs": [
    {
     "data": {
      "application/vnd.jupyter.widget-view+json": {
       "model_id": "0422862dd4a14974be3370896ad42794",
       "version_major": 2,
       "version_minor": 0
      },
      "text/plain": [
       "interactive(children=(IntSlider(value=1, description='nsines', max=10, min=1), Output()), _dom_classes=('widge…"
      ]
     },
     "metadata": {},
     "output_type": "display_data"
    }
   ],
   "source": [
    "fig, ax = plt.subplots(1,1)\n",
    "@interact(nsines=widgets.IntSlider(min=1, max=10, step=1))\n",
    "def plotsines(nsines):\n",
    "    x = np.linspace(0,np.pi*nsines)\n",
    "    ax.clear()\n",
    "    ax.plot(x,np.sin(x))\n",
    "    plt.show()"
   ]
  },
  {
   "cell_type": "markdown",
   "metadata": {},
   "source": [
    "## Numeric Ranges\n",
    "[IntRangeSlider](https://ipywidgets.readthedocs.io/en/stable/examples/Widget%20List.html#IntRangeSlider),\n",
    "FloatRangeSlider"
   ]
  },
  {
   "cell_type": "code",
   "execution_count": 16,
   "metadata": {},
   "outputs": [
    {
     "data": {
      "application/vnd.jupyter.widget-view+json": {
       "model_id": "8d5bd28d6b424556a8105b7f7a2feab3",
       "version_major": 2,
       "version_minor": 0
      },
      "text/plain": [
       "interactive(children=(FloatRangeSlider(value=(0.0, 6.283185307179586), description='c_range', max=31.415926535…"
      ]
     },
     "metadata": {},
     "output_type": "display_data"
    }
   ],
   "source": [
    "fig, ax = plt.subplots(1,1)\n",
    "@interact(c_range=widgets.FloatRangeSlider(value=[0, np.pi*2], min=0, max=10*np.pi, step=np.pi/2))\n",
    "def plotsines(c_range):\n",
    "    x = np.linspace(c_range[0],c_range[1])\n",
    "    ax.clear()\n",
    "    ax.plot(x,np.sin(x))\n",
    "    plt.show()"
   ]
  },
  {
   "cell_type": "markdown",
   "metadata": {},
   "source": [
    "## [String widgets](https://ipywidgets.readthedocs.io/en/stable/examples/Widget%20List.html#String-widgets)\n",
    "\n",
    "Text, Textarea\n"
   ]
  },
  {
   "cell_type": "code",
   "execution_count": 20,
   "metadata": {},
   "outputs": [
    {
     "data": {
      "application/vnd.jupyter.widget-view+json": {
       "model_id": "09e1ed9e73354eba9badf7b66ce9a137",
       "version_major": 2,
       "version_minor": 0
      },
      "text/plain": [
       "interactive(children=(FloatRangeSlider(value=(0.0, 6.283185307179586), description='c_range', max=31.415926535…"
      ]
     },
     "metadata": {},
     "output_type": "display_data"
    }
   ],
   "source": [
    "fig, ax = plt.subplots(1,1)\n",
    "@interact(c_range=widgets.FloatRangeSlider(value=[0, np.pi*2], min=0, max=10*np.pi, step=np.pi/2),\n",
    "          title=widgets.Text(value='Title'))\n",
    "def plotsines(c_range,title):\n",
    "    x = np.linspace(c_range[0],c_range[1])\n",
    "    ax.clear()\n",
    "    ax.plot(x,np.sin(x))\n",
    "    ax.set_title(title)\n",
    "    plt.show()"
   ]
  },
  {
   "cell_type": "markdown",
   "metadata": {},
   "source": [
    "## [Selection widgets](https://ipywidgets.readthedocs.io/en/stable/examples/Widget%20List.html#Selection-widgets)\n",
    "\n",
    "Dropdown, RadioButtons, Select, SelectionSlider, SelectionRangeSlider, ToggleBUttons, selectMultiple"
   ]
  },
  {
   "cell_type": "code",
   "execution_count": 28,
   "metadata": {},
   "outputs": [
    {
     "data": {
      "application/vnd.jupyter.widget-view+json": {
       "model_id": "33ea1317759d4cb7ba1312020a51b685",
       "version_major": 2,
       "version_minor": 0
      },
      "text/plain": [
       "interactive(children=(FloatRangeSlider(value=(0.0, 6.283185307179586), description='c_range', max=31.415926535…"
      ]
     },
     "metadata": {},
     "output_type": "display_data"
    }
   ],
   "source": [
    "fig, ax = plt.subplots(1,1)\n",
    "@interact(c_range=widgets.FloatRangeSlider(value=[0, np.pi*2], min=0, max=10*np.pi, step=np.pi/2),\n",
    "          func=widgets.Dropdown(options=['sin','cos','tan','arctan'], values=[1,2,3,4]))\n",
    "def plotsines(c_range,func):\n",
    "    x = np.linspace(c_range[0],c_range[1])\n",
    "    ax.clear()\n",
    "    ax.plot(x,eval(f'np.{func}(x)'))\n",
    "    plt.show()"
   ]
  },
  {
   "cell_type": "code",
   "execution_count": null,
   "metadata": {},
   "outputs": [],
   "source": []
  }
 ],
 "metadata": {
  "kernelspec": {
   "display_name": "Python 3 (ipykernel)",
   "language": "python",
   "name": "python3"
  },
  "language_info": {
   "codemirror_mode": {
    "name": "ipython",
    "version": 3
   },
   "file_extension": ".py",
   "mimetype": "text/x-python",
   "name": "python",
   "nbconvert_exporter": "python",
   "pygments_lexer": "ipython3",
   "version": "3.10.8"
  }
 },
 "nbformat": 4,
 "nbformat_minor": 4
}
